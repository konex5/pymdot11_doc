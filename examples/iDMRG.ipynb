{
 "cells": [
  {
   "cell_type": "markdown",
   "id": "ea6308b5",
   "metadata": {},
   "source": [
    "# Simulation"
   ]
  },
  {
   "cell_type": "markdown",
   "id": "9ac94bf5",
   "metadata": {},
   "source": [
    "You can use the library to focus on iDMRG, however, in our case it is just a way to initialize the state for the DMRG simulation."
   ]
  },
  {
   "cell_type": "code",
   "execution_count": null,
   "id": "5a152bbf",
   "metadata": {},
   "outputs": [],
   "source": [
    "from pyfhmdot.entrypoint import infinite_to_finite_ground_state\n",
    "\n",
    "imps = []\n",
    "infinite_to_finite_ground_state(\n",
    "    imps,\n",
    "    \"sh_xxz-hz_u1\",\n",
    "    {\"Jxy\": 1, \"Jz\": 1, \"hz\": 0},\n",
    "    {\"chi_max\": 10, \"eps_truncation\": 1e-8, \"dw_total\": 0, \"dw_one_serie\": 0},\n",
    "    size=12,\n",
    ")"
   ]
  }
 ],
 "metadata": {
  "kernelspec": {
   "display_name": "Python 3 (ipykernel)",
   "language": "python",
   "name": "python3"
  },
  "language_info": {
   "codemirror_mode": {
    "name": "ipython",
    "version": 3
   },
   "file_extension": ".py",
   "mimetype": "text/x-python",
   "name": "python",
   "nbconvert_exporter": "python",
   "pygments_lexer": "ipython3",
   "version": "3.9.13"
  }
 },
 "nbformat": 4,
 "nbformat_minor": 5
}
